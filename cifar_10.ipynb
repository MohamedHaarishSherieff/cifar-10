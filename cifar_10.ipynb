{
 "cells": [
  {
   "cell_type": "code",
   "execution_count": 1,
   "metadata": {
    "id": "Tno9fGe4ieAL"
   },
   "outputs": [],
   "source": [
    "import tensorflow as tf\n",
    "from keras.datasets import cifar10\n",
    "from keras import layers,models\n",
    "import matplotlib.pyplot as plt"
   ]
  },
  {
   "cell_type": "code",
   "execution_count": 2,
   "metadata": {
    "id": "UFWWw5CvieEb"
   },
   "outputs": [],
   "source": [
    "(train_images, train_labels), (test_images, test_labels) = cifar10.load_data()\n",
    "train_images, test_images = train_images / 255.0, test_images / 255.0"
   ]
  },
  {
   "cell_type": "code",
   "execution_count": 3,
   "metadata": {
    "colab": {
     "base_uri": "https://localhost:8080/"
    },
    "id": "M3FrMt1k9AVO",
    "outputId": "cb13b2be-48a7-4469-d71c-415dff86a861"
   },
   "outputs": [
    {
     "name": "stdout",
     "output_type": "stream",
     "text": [
      "(50000, 32, 32, 3)\n",
      "(10000, 32, 32, 3)\n"
     ]
    }
   ],
   "source": [
    "print(train_images.shape)\n",
    "print(test_images.shape)"
   ]
  },
  {
   "cell_type": "code",
   "execution_count": 4,
   "metadata": {
    "id": "xGP2Sj1mzn-Q"
   },
   "outputs": [],
   "source": [
    "model = tf.keras.models.Sequential([\n",
    "    tf.keras.layers.Conv2D(32, (3,3), activation='relu', input_shape=(32,32, 3)),\n",
    "    tf.keras.layers.MaxPooling2D(2,2),\n",
    "    tf.keras.layers.Conv2D(64, (3,3), activation='relu'),\n",
    "    tf.keras.layers.MaxPooling2D(2,2), \n",
    "    tf.keras.layers.Conv2D(64, (3,3), activation='relu'), \n",
    "    tf.keras.layers.MaxPooling2D(2,2),\n",
    "    tf.keras.layers.Flatten(),\n",
    "    #tf.keras.layers.Dropout(0.2),\n",
    "    tf.keras.layers.Dense(512, activation='relu'), \n",
    "    tf.keras.layers.Dense(10)\n",
    "])"
   ]
  },
  {
   "cell_type": "code",
   "execution_count": 5,
   "metadata": {
    "colab": {
     "base_uri": "https://localhost:8080/"
    },
    "id": "bjC8AtejzoAa",
    "outputId": "92d6c135-9bcc-44c0-d3c2-8f98f99ffff8"
   },
   "outputs": [
    {
     "name": "stdout",
     "output_type": "stream",
     "text": [
      "Model: \"sequential\"\n",
      "_________________________________________________________________\n",
      " Layer (type)                Output Shape              Param #   \n",
      "=================================================================\n",
      " conv2d (Conv2D)             (None, 30, 30, 32)        896       \n",
      "                                                                 \n",
      " max_pooling2d (MaxPooling2D  (None, 15, 15, 32)       0         \n",
      " )                                                               \n",
      "                                                                 \n",
      " conv2d_1 (Conv2D)           (None, 13, 13, 64)        18496     \n",
      "                                                                 \n",
      " max_pooling2d_1 (MaxPooling  (None, 6, 6, 64)         0         \n",
      " 2D)                                                             \n",
      "                                                                 \n",
      " conv2d_2 (Conv2D)           (None, 4, 4, 64)          36928     \n",
      "                                                                 \n",
      " max_pooling2d_2 (MaxPooling  (None, 2, 2, 64)         0         \n",
      " 2D)                                                             \n",
      "                                                                 \n",
      " flatten (Flatten)           (None, 256)               0         \n",
      "                                                                 \n",
      " dense (Dense)               (None, 512)               131584    \n",
      "                                                                 \n",
      " dense_1 (Dense)             (None, 10)                5130      \n",
      "                                                                 \n",
      "=================================================================\n",
      "Total params: 193,034\n",
      "Trainable params: 193,034\n",
      "Non-trainable params: 0\n",
      "_________________________________________________________________\n"
     ]
    }
   ],
   "source": [
    "model.summary()"
   ]
  },
  {
   "cell_type": "code",
   "execution_count": 6,
   "metadata": {
    "id": "_ERWF38V8TYD"
   },
   "outputs": [],
   "source": [
    "class mycallback(tf.keras.callbacks.Callback):\n",
    "    def on_epoch_end(self,epoch,logs={}):\n",
    "        if(logs.get('acc')>=0.90):\n",
    "            print('\\n Reached 90% accuracy!')\n",
    "            self.model.stop_training=True\n",
    "            \n",
    "callbacks=mycallback() "
   ]
  },
  {
   "cell_type": "code",
   "execution_count": 7,
   "metadata": {
    "colab": {
     "base_uri": "https://localhost:8080/"
    },
    "id": "bL7Fwyyt4-54",
    "outputId": "4a69f4b2-29d4-4256-80a2-6f099674fedf"
   },
   "outputs": [
    {
     "name": "stdout",
     "output_type": "stream",
     "text": [
      "Epoch 1/20\n",
      "1563/1563 [==============================] - 67s 43ms/step - loss: 1.5039 - acc: 0.4481 - val_loss: 1.2401 - val_acc: 0.5502\n",
      "Epoch 2/20\n",
      "1563/1563 [==============================] - 64s 41ms/step - loss: 1.1308 - acc: 0.5997 - val_loss: 1.0463 - val_acc: 0.6307\n",
      "Epoch 3/20\n",
      "1563/1563 [==============================] - 63s 41ms/step - loss: 0.9693 - acc: 0.6573 - val_loss: 0.9811 - val_acc: 0.6530\n",
      "Epoch 4/20\n",
      "1563/1563 [==============================] - 64s 41ms/step - loss: 0.8672 - acc: 0.6951 - val_loss: 0.9057 - val_acc: 0.6877\n",
      "Epoch 5/20\n",
      "1563/1563 [==============================] - 63s 40ms/step - loss: 0.7858 - acc: 0.7224 - val_loss: 0.8890 - val_acc: 0.6930\n",
      "Epoch 6/20\n",
      "1563/1563 [==============================] - 62s 40ms/step - loss: 0.7179 - acc: 0.7473 - val_loss: 0.9114 - val_acc: 0.6940\n",
      "Epoch 7/20\n",
      "1563/1563 [==============================] - 62s 40ms/step - loss: 0.6674 - acc: 0.7638 - val_loss: 0.8369 - val_acc: 0.7171\n",
      "Epoch 8/20\n",
      "1563/1563 [==============================] - 62s 40ms/step - loss: 0.6095 - acc: 0.7866 - val_loss: 0.8612 - val_acc: 0.7158\n",
      "Epoch 9/20\n",
      "1563/1563 [==============================] - 62s 40ms/step - loss: 0.5678 - acc: 0.7990 - val_loss: 0.8803 - val_acc: 0.7054\n",
      "Epoch 10/20\n",
      "1563/1563 [==============================] - 63s 40ms/step - loss: 0.5207 - acc: 0.8161 - val_loss: 0.8771 - val_acc: 0.7172\n",
      "Epoch 11/20\n",
      "1563/1563 [==============================] - 63s 40ms/step - loss: 0.4841 - acc: 0.8262 - val_loss: 0.9064 - val_acc: 0.7127\n",
      "Epoch 12/20\n",
      "1563/1563 [==============================] - 63s 40ms/step - loss: 0.4413 - acc: 0.8436 - val_loss: 0.9218 - val_acc: 0.7138\n",
      "Epoch 13/20\n",
      "1563/1563 [==============================] - 63s 40ms/step - loss: 0.4079 - acc: 0.8552 - val_loss: 0.9597 - val_acc: 0.7192\n",
      "Epoch 14/20\n",
      "1563/1563 [==============================] - 63s 40ms/step - loss: 0.3769 - acc: 0.8658 - val_loss: 1.0781 - val_acc: 0.7014\n",
      "Epoch 15/20\n",
      "1563/1563 [==============================] - 63s 40ms/step - loss: 0.3461 - acc: 0.8753 - val_loss: 1.0333 - val_acc: 0.7159\n",
      "Epoch 16/20\n",
      "1563/1563 [==============================] - 63s 40ms/step - loss: 0.3168 - acc: 0.8856 - val_loss: 1.1079 - val_acc: 0.7088\n",
      "Epoch 17/20\n",
      "1563/1563 [==============================] - 63s 40ms/step - loss: 0.2984 - acc: 0.8913 - val_loss: 1.0904 - val_acc: 0.7185\n",
      "Epoch 18/20\n",
      "1563/1563 [==============================] - ETA: 0s - loss: 0.2696 - acc: 0.9024\n",
      " Reached 90% accuracy!\n",
      "1563/1563 [==============================] - 63s 41ms/step - loss: 0.2696 - acc: 0.9024 - val_loss: 1.1748 - val_acc: 0.7136\n"
     ]
    }
   ],
   "source": [
    "model.compile(optimizer='adam',\n",
    "              loss=tf.keras.losses.SparseCategoricalCrossentropy(from_logits=True),\n",
    "              metrics=['acc'])\n",
    "\n",
    "history = model.fit(train_images, train_labels, epochs=20, \n",
    "                    validation_data=(test_images, test_labels),\n",
    "                    callbacks = [callbacks])"
   ]
  },
  {
   "cell_type": "code",
   "execution_count": 8,
   "metadata": {
    "colab": {
     "base_uri": "https://localhost:8080/",
     "height": 562
    },
    "id": "IlO586GtS-sB",
    "outputId": "518b0afe-61e5-42f4-dccd-6d8088dc022e"
   },
   "outputs": [
    {
     "data": {
      "text/plain": [
       "Text(0.5, 1.0, 'Training and validation loss')"
      ]
     },
     "execution_count": 8,
     "metadata": {},
     "output_type": "execute_result"
    },
    {
     "data": {
      "image/png": "[encoded data removed]",
      "text/plain": [
       "<Figure size 432x288 with 1 Axes>"
      ]
     },
     "metadata": {
      "needs_background": "light"
     },
     "output_type": "display_data"
    },
    {
     "data": {
      "image/png": "[encoded data removed]",
      "text/plain": [
       "<Figure size 432x288 with 1 Axes>"
      ]
     },
     "metadata": {
      "needs_background": "light"
     },
     "output_type": "display_data"
    }
   ],
   "source": [
    "import matplotlib.pyplot as plt\n",
    "\n",
    "acc=history.history['acc']\n",
    "val_acc=history.history['val_acc']\n",
    "loss=history.history['loss']\n",
    "val_loss=history.history['val_loss']\n",
    "\n",
    "epochs=range(len(acc))\n",
    "\n",
    "plt.plot(epochs, acc, 'r', \"Training Accuracy\")\n",
    "plt.plot(epochs, val_acc, 'b', \"Validation Accuracy\")\n",
    "plt.title('Training and validation accuracy')\n",
    "plt.figure()\n",
    "\n",
    "plt.plot(epochs, loss, 'r', \"Training Loss\")\n",
    "plt.plot(epochs, val_loss, 'b', \"Validation Loss\")\n",
    "plt.title('Training and validation loss')\n"
   ]
  }
 ],
 "metadata": {
  "colab": {
   "collapsed_sections": [],
   "name": "cifar-10",
   "provenance": []
  },
  "kernelspec": {
   "display_name": "Python 3 (ipykernel)",
   "language": "python",
   "name": "python3"
  },
  "language_info": {
   "codemirror_mode": {
    "name": "ipython",
    "version": 3
   },
   "file_extension": ".py",
   "mimetype": "text/x-python",
   "name": "python",
   "nbconvert_exporter": "python",
   "pygments_lexer": "ipython3",
   "version": "3.9.7"
  }
 },
 "nbformat": 4,
 "nbformat_minor": 1
}
